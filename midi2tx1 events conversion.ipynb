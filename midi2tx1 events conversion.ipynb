{
 "cells": [
  {
   "cell_type": "code",
   "execution_count": 1,
   "metadata": {},
   "outputs": [],
   "source": [
    "from data.tx1_midi import *"
   ]
  },
  {
   "cell_type": "code",
   "execution_count": 2,
   "metadata": {},
   "outputs": [],
   "source": [
    "import pretty_midi\n",
    "import os\n",
    "import glob\n",
    "import multiprocessing\n",
    "from tqdm import tqdm\n",
    "import pdb"
   ]
  },
  {
   "cell_type": "code",
   "execution_count": 3,
   "metadata": {},
   "outputs": [],
   "source": [
    "def convert_to_tx1(midi_file):\n",
    "    midi_file = os.path.join(input_folder, midi_file)\n",
    "    midi = pretty_midi.PrettyMIDI(midi_file)\n",
    "    tx1 = midi_to_tx1(midi)\n",
    "    midi_filename = '.'.join(midi_file.split('.')[:-1])\n",
    "    midi_filename = midi_filename.split(os.sep)[-1]\n",
    "    with open(os.path.join(output_folder, midi_filename+'.tx1.txt'), 'w') as out_f:\n",
    "        out_f.write(tx1)"
   ]
  },
  {
   "cell_type": "code",
   "execution_count": 4,
   "metadata": {},
   "outputs": [
    {
     "name": "stdout",
     "output_type": "stream",
     "text": [
      "775335\n"
     ]
    },
    {
     "name": "stderr",
     "output_type": "stream",
     "text": [
      "100%|██████████| 775335/775335 [7:34:42<00:00, 28.42it/s]     \n"
     ]
    }
   ],
   "source": [
    "project_folder = os.getcwd()\n",
    "input_folder = os.path.join(project_folder, 'data/lmd_nes_data/out/')\n",
    "output_folder = os.path.join(project_folder, 'data/lmd_nes_data/out_tx1')\n",
    "if not os.path.exists(output_folder):\n",
    "    os.makedirs(output_folder)\n",
    "midi_files = os.listdir(input_folder) #glob.glob(os.path.join(input_folder, '*/*.mid*'))\n",
    "print(len(midi_files))\n",
    "with multiprocessing.Pool(8) as p:\n",
    "    r = list(tqdm(p.imap(convert_to_tx1, midi_files), total=len(midi_files)))"
   ]
  },
  {
   "cell_type": "code",
   "execution_count": null,
   "metadata": {},
   "outputs": [],
   "source": []
  }
 ],
 "metadata": {
  "kernelspec": {
   "display_name": "lakhnes_model",
   "language": "python",
   "name": "lakhnes_model"
  },
  "language_info": {
   "codemirror_mode": {
    "name": "ipython",
    "version": 3
   },
   "file_extension": ".py",
   "mimetype": "text/x-python",
   "name": "python",
   "nbconvert_exporter": "python",
   "pygments_lexer": "ipython3",
   "version": "3.6.8"
  }
 },
 "nbformat": 4,
 "nbformat_minor": 2
}
