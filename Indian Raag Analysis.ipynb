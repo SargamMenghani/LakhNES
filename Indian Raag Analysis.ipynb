{
 "cells": [
  {
   "cell_type": "code",
   "execution_count": 1,
   "metadata": {},
   "outputs": [],
   "source": [
    "import pretty_midi\n",
    "import os\n",
    "import numpy as np\n",
    "import pdb"
   ]
  },
  {
   "cell_type": "code",
   "execution_count": 2,
   "metadata": {},
   "outputs": [],
   "source": [
    "def get_midi_instruments(midi):\n",
    "    instruments = midi.instruments\n",
    "    ins_names = set([ins.name for ins in instruments])\n",
    "    ins_programs = set([ins.program for ins in instruments])\n",
    "    return instruments, ins_programs, ins_names"
   ]
  },
  {
   "cell_type": "code",
   "execution_count": 3,
   "metadata": {},
   "outputs": [],
   "source": [
    "def remove_short_duration_notes(midi):\n",
    "    instruments = midi.instruments\n",
    "    for ins in instruments:\n",
    "        start_end_diff = [note.end - note.start for note in ins.notes]\n",
    "        lower_threshold = np.percentile(start_end_diff, 10)\n",
    "        ins_notes = [note for note in ins.notes if note.end - note.start > min(lower_threshold, 0.2)]\n",
    "        ins.notes = ins_notes\n",
    "    return midi"
   ]
  },
  {
   "cell_type": "code",
   "execution_count": 4,
   "metadata": {},
   "outputs": [],
   "source": [
    "def remove_long_duration_notes(midi):\n",
    "    for ins in midi.instruments:\n",
    "        ins_notes = sorted(ins.notes, key=lambda k: k.start)\n",
    "        note_start_dict = {}\n",
    "        for note in ins_notes:\n",
    "            if not note.start in note_start_dict:\n",
    "                note_start_dict[note.start] = []\n",
    "            note_start_dict[note.start].append(note)\n",
    "        final_notes = []\n",
    "        for start_key in note_start_dict:\n",
    "            start_notes = note_start_dict[start_key]\n",
    "            if len(start_notes) > 1:\n",
    "                start_end_diff = [(note, note.end-note.start) for note in start_notes]\n",
    "                start_end_diff = sorted(start_end_diff, key=lambda k: k[1])\n",
    "                note_to_add = start_end_diff[0][0]\n",
    "            else:\n",
    "                note_to_add = start_notes[0]\n",
    "            final_notes.append(note_to_add)\n",
    "        final_notes = sorted(final_notes, key=lambda k: k.start)\n",
    "        ins.notes = final_notes\n",
    "    return midi"
   ]
  },
  {
   "cell_type": "code",
   "execution_count": 5,
   "metadata": {},
   "outputs": [],
   "source": [
    "def make_instrument_monophonic(midi):\n",
    "    for ins in midi.instruments:\n",
    "        total_ins_notes = len(ins.notes)\n",
    "        ins_notes = ins.notes\n",
    "        final_notes = []\n",
    "        for i, note in enumerate(ins_notes):\n",
    "            if (i < (total_ins_notes - 1)) and (note.end > ins_notes[i+1].start):\n",
    "                note.end = ins_notes[i+1].start\n",
    "            final_notes.append(note)\n",
    "        ins.notes = final_notes\n",
    "    return midi"
   ]
  },
  {
   "cell_type": "code",
   "execution_count": 7,
   "metadata": {
    "scrolled": true
   },
   "outputs": [
    {
     "name": "stdout",
     "output_type": "stream",
     "text": [
      "(0) Bhairav.mid\n",
      "[Instrument(program=104, is_drum=False, name=\"\"), Instrument(program=0, is_drum=True, name=\"\")]\n",
      "(1) Behag.mid\n",
      "[Instrument(program=0, is_drum=False, name=\"untitled\")]\n",
      "(2) Durga.mid\n",
      "[Instrument(program=0, is_drum=False, name=\"\")]\n",
      "(3) Des.mid\n",
      "[Instrument(program=0, is_drum=False, name=\"\")]\n",
      "(4) bazigar.mid\n",
      "[Instrument(program=52, is_drum=False, name=\"Female lead\"), Instrument(program=52, is_drum=False, name=\"Male lead\"), Instrument(program=52, is_drum=False, name=\"Choir Aahs\"), Instrument(program=51, is_drum=False, name=\"Strings/Violins\"), Instrument(program=114, is_drum=False, name=\"Steel Drums\"), Instrument(program=112, is_drum=False, name=\"Tinkle Bell\"), Instrument(program=71, is_drum=False, name=\"Tinkle Bell\"), Instrument(program=4, is_drum=False, name=\"Elec. Piano\"), Instrument(program=40, is_drum=False, name=\"Solo Violin\"), Instrument(program=118, is_drum=False, name=\"Synth Drum\"), Instrument(program=55, is_drum=False, name=\"Orchestra Hit \"), Instrument(program=0, is_drum=True, name=\"Snare H Hard E2 | 52\"), Instrument(program=0, is_drum=True, name=\"Claves Stick | 87 D#5 \"), Instrument(program=0, is_drum=True, name=\"Woodblock L F5 | 89\"), Instrument(program=0, is_drum=True, name=\"Bass Drum L B1 | 47 \"), Instrument(program=0, is_drum=True, name=\"Hi-hat ClsedF#2 | 54 \"), Instrument(program=0, is_drum=True, name=\"RideCymbol2 B3\"), Instrument(program=0, is_drum=True, name=\"Tambourine F#3 \"), Instrument(program=0, is_drum=True, name=\"Conga H openD#4 | Tuned Tabla\"), Instrument(program=0, is_drum=True, name=\"Conga H Mute D4 | 74\"), Instrument(program=0, is_drum=True, name=\"Bongo H C4 | 72\"), Instrument(program=0, is_drum=True, name=\"High-hat open | 58 A#2\"), Instrument(program=33, is_drum=False, name=\"Finger Bass 34 \"), Instrument(program=25, is_drum=False, name=\"Acoustic Guitar | 26 \")]\n",
      "(5) Bageshri.mid\n",
      "[Instrument(program=0, is_drum=False, name=\"\")]\n",
      "(6) Miyan ki  Malhar.mid\n",
      "[Instrument(program=0, is_drum=False, name=\"\")]\n",
      "(7) DawnOfLove.mid\n",
      "[Instrument(program=104, is_drum=False, name=\"melody\")]\n",
      "(8) Gaud.mid\n",
      "[Instrument(program=0, is_drum=False, name=\"\")]\n",
      "(9) Alhiya Bilawal.mid\n",
      "[Instrument(program=0, is_drum=False, name=\"\")]\n",
      "(10) Bahar.mid\n",
      "[Instrument(program=0, is_drum=False, name=\"\")]\n",
      "(11) Tilak Kamode.mid\n",
      "[Instrument(program=0, is_drum=False, name=\"\")]\n",
      "(12) Peelu.mid\n",
      "[Instrument(program=40, is_drum=False, name=\"untitled\")]\n",
      "(13) Purvi.mid\n",
      "[Instrument(program=104, is_drum=False, name=\"\"), Instrument(program=0, is_drum=True, name=\"\")]\n",
      "(14) Adana.mid\n",
      "[Instrument(program=0, is_drum=False, name=\"\")]\n",
      "(15) Chandra Kauns.mid\n",
      "[Instrument(program=0, is_drum=False, name=\"untitled\")]\n",
      "(16) Tilang.mid\n",
      "[Instrument(program=0, is_drum=False, name=\"\")]\n",
      "(17) Miaki.mid\n",
      "[Instrument(program=104, is_drum=False, name=\"\"), Instrument(program=0, is_drum=True, name=\"\")]\n",
      "(18) JaunaPuri.mid\n",
      "[Instrument(program=0, is_drum=False, name=\"\")]\n",
      "(19) Pahadi.mid\n",
      "[Instrument(program=0, is_drum=False, name=\"\")]\n"
     ]
    }
   ],
   "source": [
    "midi_folder = '../repo_data/indian_raags/'\n",
    "output_folder = '../repo_data/indian_raags_monophonic/'\n",
    "if not os.path.exists(output_folder):\n",
    "    os.makedirs(output_folder)\n",
    "for i, midi_file in enumerate(os.listdir(midi_folder)):\n",
    "    print('({}) {}'.format(i, midi_file))\n",
    "    midi = pretty_midi.PrettyMIDI(os.path.join(midi_folder, midi_file))\n",
    "    instruments, ins_programs, ins_names = get_midi_instruments(midi)\n",
    "    print(instruments)\n",
    "    midi = remove_short_duration_notes(midi)\n",
    "    midi = remove_long_duration_notes(midi)\n",
    "    midi = make_instrument_monophonic(midi)\n",
    "    midi.write(os.path.join(output_folder, midi_file))"
   ]
  },
  {
   "cell_type": "code",
   "execution_count": null,
   "metadata": {},
   "outputs": [],
   "source": [
    "midi = pretty_midi.PrettyMIDI(os.path.join(midi_folder, 'Behag.mid'))\n",
    "instruments = midi.instruments\n",
    "instruments"
   ]
  },
  {
   "cell_type": "code",
   "execution_count": null,
   "metadata": {
    "scrolled": false
   },
   "outputs": [],
   "source": [
    "ins = instruments[0]\n",
    "sorted(ins.notes, key=lambda k: k.start)"
   ]
  },
  {
   "cell_type": "code",
   "execution_count": null,
   "metadata": {},
   "outputs": [],
   "source": []
  },
  {
   "cell_type": "code",
   "execution_count": null,
   "metadata": {},
   "outputs": [],
   "source": []
  }
 ],
 "metadata": {
  "kernelspec": {
   "display_name": "lakhnes_model",
   "language": "python",
   "name": "lakhnes_model"
  },
  "language_info": {
   "codemirror_mode": {
    "name": "ipython",
    "version": 3
   },
   "file_extension": ".py",
   "mimetype": "text/x-python",
   "name": "python",
   "nbconvert_exporter": "python",
   "pygments_lexer": "ipython3",
   "version": "3.6.8"
  }
 },
 "nbformat": 4,
 "nbformat_minor": 2
}
