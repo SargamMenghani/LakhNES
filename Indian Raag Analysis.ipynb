{
 "cells": [
  {
   "cell_type": "code",
   "execution_count": 1,
   "metadata": {},
   "outputs": [],
   "source": [
    "import pretty_midi\n",
    "import os"
   ]
  },
  {
   "cell_type": "code",
   "execution_count": 35,
   "metadata": {},
   "outputs": [],
   "source": [
    "def get_midi_instruments(midi):\n",
    "    instruments = midi.instruments\n",
    "    ins_names = set([ins.name for ins in instruments])\n",
    "    ins_programs = set([ins.program for ins in instruments])\n",
    "    return instruments, ins_programs, ins_names"
   ]
  },
  {
   "cell_type": "code",
   "execution_count": 36,
   "metadata": {},
   "outputs": [
    {
     "name": "stdout",
     "output_type": "stream",
     "text": [
      "(0) Bhairav.mid\n",
      "[Instrument(program=104, is_drum=False, name=\"\"), Instrument(program=0, is_drum=True, name=\"\")]\n",
      "-------------------------\n",
      "(1) Behag.mid\n",
      "[Instrument(program=0, is_drum=False, name=\"untitled\")]\n",
      "-------------------------\n",
      "(2) Durga.mid\n",
      "[Instrument(program=0, is_drum=False, name=\"\")]\n",
      "-------------------------\n",
      "(3) Des.mid\n",
      "[Instrument(program=0, is_drum=False, name=\"\")]\n",
      "-------------------------\n",
      "(4) bazigar.mid\n",
      "[Instrument(program=52, is_drum=False, name=\"Female lead\"), Instrument(program=52, is_drum=False, name=\"Male lead\"), Instrument(program=52, is_drum=False, name=\"Choir Aahs\"), Instrument(program=51, is_drum=False, name=\"Strings/Violins\"), Instrument(program=114, is_drum=False, name=\"Steel Drums\"), Instrument(program=112, is_drum=False, name=\"Tinkle Bell\"), Instrument(program=71, is_drum=False, name=\"Tinkle Bell\"), Instrument(program=4, is_drum=False, name=\"Elec. Piano\"), Instrument(program=40, is_drum=False, name=\"Solo Violin\"), Instrument(program=118, is_drum=False, name=\"Synth Drum\"), Instrument(program=55, is_drum=False, name=\"Orchestra Hit \"), Instrument(program=0, is_drum=True, name=\"Snare H Hard E2 | 52\"), Instrument(program=0, is_drum=True, name=\"Claves Stick | 87 D#5 \"), Instrument(program=0, is_drum=True, name=\"Woodblock L F5 | 89\"), Instrument(program=0, is_drum=True, name=\"Bass Drum L B1 | 47 \"), Instrument(program=0, is_drum=True, name=\"Hi-hat ClsedF#2 | 54 \"), Instrument(program=0, is_drum=True, name=\"RideCymbol2 B3\"), Instrument(program=0, is_drum=True, name=\"Tambourine F#3 \"), Instrument(program=0, is_drum=True, name=\"Conga H openD#4 | Tuned Tabla\"), Instrument(program=0, is_drum=True, name=\"Conga H Mute D4 | 74\"), Instrument(program=0, is_drum=True, name=\"Bongo H C4 | 72\"), Instrument(program=0, is_drum=True, name=\"High-hat open | 58 A#2\"), Instrument(program=33, is_drum=False, name=\"Finger Bass 34 \"), Instrument(program=25, is_drum=False, name=\"Acoustic Guitar | 26 \")]\n",
      "-------------------------\n",
      "(5) Bageshri.mid\n",
      "[Instrument(program=0, is_drum=False, name=\"\")]\n",
      "-------------------------\n",
      "(6) Miyan ki  Malhar.mid\n",
      "[Instrument(program=0, is_drum=False, name=\"\")]\n",
      "-------------------------\n",
      "(7) DawnOfLove.mid\n",
      "[Instrument(program=104, is_drum=False, name=\"melody\")]\n",
      "-------------------------\n",
      "(8) Gaud.mid\n",
      "[Instrument(program=0, is_drum=False, name=\"\")]\n",
      "-------------------------\n",
      "(9) Alhiya Bilawal.mid\n",
      "[Instrument(program=0, is_drum=False, name=\"\")]\n",
      "-------------------------\n",
      "(10) Bahar.mid\n",
      "[Instrument(program=0, is_drum=False, name=\"\")]\n",
      "-------------------------\n",
      "(11) Tilak Kamode.mid\n",
      "[Instrument(program=0, is_drum=False, name=\"\")]\n",
      "-------------------------\n",
      "(12) Peelu.mid\n",
      "[Instrument(program=40, is_drum=False, name=\"untitled\")]\n",
      "-------------------------\n",
      "(13) Purvi.mid\n",
      "[Instrument(program=104, is_drum=False, name=\"\"), Instrument(program=0, is_drum=True, name=\"\")]\n",
      "-------------------------\n",
      "(14) Adana.mid\n",
      "[Instrument(program=0, is_drum=False, name=\"\")]\n",
      "-------------------------\n",
      "(15) Chandra Kauns.mid\n",
      "[Instrument(program=0, is_drum=False, name=\"untitled\")]\n",
      "-------------------------\n",
      "(16) Tilang.mid\n",
      "[Instrument(program=0, is_drum=False, name=\"\")]\n",
      "-------------------------\n",
      "(17) Miaki.mid\n",
      "[Instrument(program=104, is_drum=False, name=\"\"), Instrument(program=0, is_drum=True, name=\"\")]\n",
      "-------------------------\n",
      "(18) JaunaPuri.mid\n",
      "[Instrument(program=0, is_drum=False, name=\"\")]\n",
      "-------------------------\n",
      "(19) Pahadi.mid\n",
      "[Instrument(program=0, is_drum=False, name=\"\")]\n",
      "-------------------------\n"
     ]
    }
   ],
   "source": [
    "midi_folder = '../repo_data/indian_raags/'\n",
    "all_programs = set()\n",
    "all_names = set()\n",
    "for i, midi_file in enumerate(os.listdir(midi_folder)):\n",
    "    midi = pretty_midi.PrettyMIDI(os.path.join(midi_folder, midi_file))\n",
    "    instruments, ins_programs, ins_names = get_midi_instruments(midi)\n",
    "    all_programs = all_programs.union(ins_programs)\n",
    "    all_names = all_names.union(ins_names)\n",
    "    print('({}) {}'.format(i, midi_file))\n",
    "    print(instruments)\n",
    "    print(25*'-')"
   ]
  }
 ],
 "metadata": {
  "kernelspec": {
   "display_name": "lakhnes_model",
   "language": "python",
   "name": "lakhnes_model"
  },
  "language_info": {
   "codemirror_mode": {
    "name": "ipython",
    "version": 3
   },
   "file_extension": ".py",
   "mimetype": "text/x-python",
   "name": "python",
   "nbconvert_exporter": "python",
   "pygments_lexer": "ipython3",
   "version": "3.6.8"
  }
 },
 "nbformat": 4,
 "nbformat_minor": 2
}
