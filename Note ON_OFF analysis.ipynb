{
 "cells": [
  {
   "cell_type": "code",
   "execution_count": 1,
   "metadata": {},
   "outputs": [],
   "source": [
    "import os\n",
    "import pdb"
   ]
  },
  {
   "cell_type": "code",
   "execution_count": 2,
   "metadata": {},
   "outputs": [],
   "source": [
    "def read_file(filepath, filename):\n",
    "    filename = os.path.join(filepath, filename)\n",
    "    with open(filename, 'r') as in_f:\n",
    "        file_text = in_f.read()\n",
    "    generated_notes = file_text.split()\n",
    "    generated_notes = [note.strip() for note in generated_notes]\n",
    "    return generated_notes"
   ]
  },
  {
   "cell_type": "code",
   "execution_count": 3,
   "metadata": {},
   "outputs": [],
   "source": [
    "def count_notes(generated_notes):\n",
    "    note_count_dict = {}\n",
    "    for note in generated_notes:\n",
    "        note_split = note.split('_')\n",
    "        note_name = note_split[0]\n",
    "        if note_name == 'WT':\n",
    "            note_count_dict[note_name] = note_count_dict.get(note_name, 0) + 1\n",
    "            continue\n",
    "        event_type = note_split[1]\n",
    "        try:\n",
    "            if not note_name in note_count_dict:\n",
    "                note_count_dict[note_name] = {}\n",
    "        except:\n",
    "            pdb.set_trace()\n",
    "        note_count_dict[note_name][event_type] = note_count_dict[note_name].get(event_type, 0) + 1\n",
    "    return note_count_dict"
   ]
  },
  {
   "cell_type": "code",
   "execution_count": 4,
   "metadata": {},
   "outputs": [],
   "source": [
    "parent_folder = '/home/nisarg/inhouse_research/imusic/third_party_repos/repo_data/lmd_nes_data/out_tx1/'\n",
    "filename = '9fddbfaafc5cd031fb0d402667e54f93_004.tx1.txt'\n",
    "generated_notes = read_file(parent_folder, filename)\n",
    "count_dict = count_notes(generated_notes)"
   ]
  },
  {
   "cell_type": "code",
   "execution_count": 5,
   "metadata": {},
   "outputs": [
    {
     "data": {
      "text/plain": [
       "{'NO': {'NOTEON': 690, 'NOTEOFF': 674},\n",
       " 'WT': 1439,\n",
       " 'TR': {'NOTEON': 304, 'NOTEOFF': 78},\n",
       " 'P1': {'NOTEON': 409, 'NOTEOFF': 53}}"
      ]
     },
     "execution_count": 5,
     "metadata": {},
     "output_type": "execute_result"
    }
   ],
   "source": [
    "count_dict"
   ]
  },
  {
   "cell_type": "code",
   "execution_count": null,
   "metadata": {},
   "outputs": [],
   "source": []
  }
 ],
 "metadata": {
  "kernelspec": {
   "display_name": "lakhnes_model",
   "language": "python",
   "name": "lakhnes_model"
  },
  "language_info": {
   "codemirror_mode": {
    "name": "ipython",
    "version": 3
   },
   "file_extension": ".py",
   "mimetype": "text/x-python",
   "name": "python",
   "nbconvert_exporter": "python",
   "pygments_lexer": "ipython3",
   "version": "3.6.8"
  }
 },
 "nbformat": 4,
 "nbformat_minor": 2
}
