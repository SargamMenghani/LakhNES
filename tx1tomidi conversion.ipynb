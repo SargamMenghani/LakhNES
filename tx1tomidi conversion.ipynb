{
 "cells": [
  {
   "cell_type": "code",
   "execution_count": 1,
   "metadata": {},
   "outputs": [],
   "source": [
    "from data.tx1_midi import *"
   ]
  },
  {
   "cell_type": "code",
   "execution_count": 2,
   "metadata": {},
   "outputs": [],
   "source": [
    "import pretty_midi\n",
    "import os"
   ]
  },
  {
   "cell_type": "code",
   "execution_count": 3,
   "metadata": {},
   "outputs": [],
   "source": [
    "def save_midi(tx1_file_name, output_folder):\n",
    "    with open(tx1_file_name, 'r') as in_f:\n",
    "        tx1 = in_f.read()\n",
    "    midi = tx1_to_midi(tx1)\n",
    "    out_file_name = '.'.join(tx1_file_name.split('.')[:-1])\n",
    "    out_file_name = out_file_name.split(os.sep)[-1]\n",
    "    out_file_name = os.path.join(output_folder, out_file_name)\n",
    "    out_file_name = out_file_name + '.mid'\n",
    "#     print(out_file_name)\n",
    "    if not os.path.exists(output_folder):\n",
    "        os.makedirs(output_folder)\n",
    "    midi.write(out_file_name)"
   ]
  },
  {
   "cell_type": "code",
   "execution_count": 4,
   "metadata": {},
   "outputs": [],
   "source": [
    "parent_folder = '/home/nisarg/inhouse_research/imusic/third_party_repos/LakhNES_orig/generated/'\n",
    "tx1_folders = ['Lakh400kPretrainOnly']\n",
    "for tx1_folder in tx1_folders:\n",
    "    tx1_folder = os.path.join(parent_folder, tx1_folder)\n",
    "    for tx1_filename in os.listdir(tx1_folder):\n",
    "        save_midi(os.path.join(tx1_folder, tx1_filename), os.path.join(tx1_folder, 'midi'))"
   ]
  },
  {
   "cell_type": "code",
   "execution_count": null,
   "metadata": {},
   "outputs": [],
   "source": [
    "save_midi('/home/nisarg/inhouse_research/imusic/third_party_repos/LakhNES_orig/generated/Lakh400kPretrainOnly/3.tx1.txt', '/home/nisarg/inhouse_research/imusic/third_party_repos/repo_data/')"
   ]
  },
  {
   "cell_type": "code",
   "execution_count": null,
   "metadata": {},
   "outputs": [],
   "source": []
  }
 ],
 "metadata": {
  "kernelspec": {
   "display_name": "lakhnes_model",
   "language": "python",
   "name": "lakhnes_model"
  },
  "language_info": {
   "codemirror_mode": {
    "name": "ipython",
    "version": 3
   },
   "file_extension": ".py",
   "mimetype": "text/x-python",
   "name": "python",
   "nbconvert_exporter": "python",
   "pygments_lexer": "ipython3",
   "version": "3.6.8"
  }
 },
 "nbformat": 4,
 "nbformat_minor": 2
}
